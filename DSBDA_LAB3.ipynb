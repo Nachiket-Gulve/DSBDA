{
 "cells": [
  {
   "cell_type": "code",
   "execution_count": null,
   "id": "d67a7e50",
   "metadata": {},
   "outputs": [],
   "source": [
    "import pandas as pd\n",
    "df = pd.read_csv(\"adult.csv\")\n",
    "print(df)"
   ]
  },
  {
   "cell_type": "code",
   "execution_count": null,
   "id": "8866de82",
   "metadata": {},
   "outputs": [],
   "source": [
    "df.groupby(\"gender\")[\"age\"].describe()"
   ]
  },
  {
   "cell_type": "code",
   "execution_count": null,
   "id": "bb6aa339",
   "metadata": {},
   "outputs": [],
   "source": [
    "df.groupby(\"marital-status\")[\"age\"].mean()"
   ]
  },
  {
   "cell_type": "code",
   "execution_count": null,
   "id": "1a294ab3",
   "metadata": {},
   "outputs": [],
   "source": [
    "df.groupby(\"marital-status\")[\"age\"].describe()"
   ]
  },
  {
   "cell_type": "code",
   "execution_count": null,
   "id": "df863887",
   "metadata": {},
   "outputs": [],
   "source": [
    "df.groupby(\"marital-status\")[\"age\"].median()"
   ]
  },
  {
   "cell_type": "code",
   "execution_count": null,
   "id": "6a5ac7a9",
   "metadata": {},
   "outputs": [],
   "source": [
    "df.groupby([\"gender\",\"marital-status\"])[\"age\"].std()"
   ]
  },
  {
   "cell_type": "code",
   "execution_count": null,
   "id": "33ba9b54",
   "metadata": {},
   "outputs": [],
   "source": [
    "df.groupby(\"income\")[\"age\"].mean()"
   ]
  },
  {
   "cell_type": "code",
   "execution_count": null,
   "id": "4bab9a68",
   "metadata": {},
   "outputs": [],
   "source": [
    "df.groupby(\"income\")[\"age\"].describe()"
   ]
  },
  {
   "cell_type": "code",
   "execution_count": null,
   "id": "7dfdaf16",
   "metadata": {},
   "outputs": [],
   "source": [
    "import pandas as pd\n",
    "d = pd.read_csv(\"Iris.csv\")\n",
    "print('Iris-setosa')\n",
    "setosa = d[\"Species\"] == \"Iris-setosa\"\n",
    "print(d[setosa].describe())\n",
    "print('\\nIris-versicolor')\n",
    "setosa = d['Species'] == 'Iris-versicolor'\n",
    "print(d[setosa].describe())\n",
    "print('\\nIris-verginica')\n",
    "setosa = d['Species'] == 'Iris-verginica'\n",
    "print(d[setosa])\n",
    "print(d[setosa].describe())"
   ]
  },
  {
   "cell_type": "code",
   "execution_count": null,
   "id": "f182f679",
   "metadata": {},
   "outputs": [],
   "source": [
    "d.groupby([\"Species\"])[\"SepalLengthCm\"].mean()"
   ]
  },
  {
   "cell_type": "code",
   "execution_count": null,
   "id": "d1373abe",
   "metadata": {},
   "outputs": [],
   "source": [
    "d.groupby([\"Species\"])[\"SepalLengthCm\"].std()"
   ]
  },
  {
   "cell_type": "code",
   "execution_count": null,
   "id": "93b35c25",
   "metadata": {},
   "outputs": [],
   "source": [
    "d.groupby([\"Species\"])[\"SepalLengthCm\"].describe()"
   ]
  },
  {
   "cell_type": "code",
   "execution_count": null,
   "id": "0a068882",
   "metadata": {},
   "outputs": [],
   "source": [
    "d.groupby([\"Species\"])[\"SepalLengthCm\"].quantile(q=0.50)"
   ]
  },
  {
   "cell_type": "code",
   "execution_count": null,
   "id": "265233da",
   "metadata": {},
   "outputs": [],
   "source": [
    "a = d.groupby([\"Species\"])[\"SepalLengthCm\"].mean()\n",
    "print(a)"
   ]
  },
  {
   "cell_type": "code",
   "execution_count": null,
   "id": "61b45b23",
   "metadata": {},
   "outputs": [],
   "source": [
    "b = d.groupby([\"Species\"])[\"SepalLengthCm\"].median()\n",
    "print(b)"
   ]
  },
  {
   "cell_type": "code",
   "execution_count": null,
   "id": "b419fd57",
   "metadata": {},
   "outputs": [],
   "source": [
    "list= [a,b]"
   ]
  }
 ],
 "metadata": {
  "kernelspec": {
   "display_name": "Python 3 (ipykernel)",
   "language": "python",
   "name": "python3"
  },
  "language_info": {
   "codemirror_mode": {
    "name": "ipython",
    "version": 3
   },
   "file_extension": ".py",
   "mimetype": "text/x-python",
   "name": "python",
   "nbconvert_exporter": "python",
   "pygments_lexer": "ipython3",
   "version": "3.9.7"
  }
 },
 "nbformat": 4,
 "nbformat_minor": 5
}
